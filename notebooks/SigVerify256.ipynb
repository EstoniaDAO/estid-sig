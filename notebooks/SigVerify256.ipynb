{
 "cells": [
  {
   "cell_type": "markdown",
   "metadata": {},
   "source": [
    "# Raw signature verification"
   ]
  },
  {
   "cell_type": "markdown",
   "metadata": {},
   "source": [
    "## Parameters"
   ]
  },
  {
   "cell_type": "markdown",
   "metadata": {},
   "source": [
    "### Field"
   ]
  },
  {
   "cell_type": "code",
   "execution_count": 1,
   "metadata": {},
   "outputs": [],
   "source": [
    "p = 39402006196394479212279040100143613805079739270465446667948293404245721771496870329047266088258938001861606973112319"
   ]
  },
  {
   "cell_type": "markdown",
   "metadata": {},
   "source": [
    "### Curve"
   ]
  },
  {
   "cell_type": "code",
   "execution_count": 2,
   "metadata": {},
   "outputs": [],
   "source": [
    "ca = p - 3\n",
    "cb = 27580193559959705877849011840389048093056905856361568521428707301988689241309860865136260764883745107765439761230575\n",
    "gx = 26247035095799689268623156744566981891852923491109213387815615900925518854738050089022388053975719786650872476732087\n",
    "gy = 8325710961489029985546751289520108179287853048861315594709205902480503199884419224438643760392947333078086511627871\n",
    "go = 39402006196394479212279040100143613805079739270465446667946905279627659399113263569398956308152294913554433653942643"
   ]
  },
  {
   "cell_type": "markdown",
   "metadata": {},
   "source": [
    "### Public key"
   ]
  },
  {
   "cell_type": "code",
   "execution_count": 3,
   "metadata": {},
   "outputs": [],
   "source": [
    "x = 30827567487393551525402089664526449770646356836908584670673246523285555687049858098829191759343589369441587654976562\n",
    "y = 2009068527738404759430491179267117270890161016114510417259692707866849715139082362044671225604392405754431155211363"
   ]
  },
  {
   "cell_type": "markdown",
   "metadata": {},
   "source": [
    "### Digest"
   ]
  },
  {
   "cell_type": "code",
   "execution_count": 4,
   "metadata": {},
   "outputs": [],
   "source": [
    "m = 29487358125424512498370551173628780853002944075174315746794686527735994862322"
   ]
  },
  {
   "cell_type": "markdown",
   "metadata": {},
   "source": [
    "### Signature"
   ]
  },
  {
   "cell_type": "code",
   "execution_count": 5,
   "metadata": {},
   "outputs": [],
   "source": [
    "r = 36742824419652648025863987403620927536315918738674799855291881974208903666047095304901170886918427806277713149969790\n",
    "s = 36655663933123342092039028055267978704456567804916507890392767843061757921835920729532485652317488042964862515704415"
   ]
  },
  {
   "cell_type": "markdown",
   "metadata": {},
   "source": [
    "## 256 bit words"
   ]
  },
  {
   "cell_type": "code",
   "execution_count": 6,
   "metadata": {},
   "outputs": [],
   "source": [
    "def encode(n):\n",
    "    hi = n // 2**256\n",
    "    lo = n % 2**256\n",
    "    return (hi, lo)"
   ]
  },
  {
   "cell_type": "markdown",
   "metadata": {},
   "source": [
    "## Curve math"
   ]
  },
  {
   "cell_type": "code",
   "execution_count": 164,
   "metadata": {},
   "outputs": [],
   "source": [
    "def mul512(a, b):\n",
    "    hi = (a * b) // 2**256\n",
    "    lo = (a * b) % 2**256\n",
    "    return (hi, lo)"
   ]
  },
  {
   "cell_type": "code",
   "execution_count": 7,
   "metadata": {},
   "outputs": [],
   "source": [
    "def fieldAdd(a, b):\n",
    "    return (a + b) % p"
   ]
  },
  {
   "cell_type": "code",
   "execution_count": 8,
   "metadata": {},
   "outputs": [],
   "source": [
    "def fieldSub(a, b):\n",
    "    return (a - b) % p"
   ]
  },
  {
   "cell_type": "code",
   "execution_count": 9,
   "metadata": {},
   "outputs": [],
   "source": [
    "def fieldMul(a, b):\n",
    "    return (a * b) % p"
   ]
  },
  {
   "cell_type": "code",
   "execution_count": 10,
   "metadata": {},
   "outputs": [],
   "source": [
    "def fieldInv(a):\n",
    "    a = a % p\n",
    "\n",
    "    # Euclids\n",
    "    c, d = a, p\n",
    "    uc, vc, ud, vd = 1, 0, 0, 1\n",
    "    while c != 0:\n",
    "        q, c, d = (d // c, d % c, c)\n",
    "        uc, vc, ud, vd = ud - q * uc, vd - q * vc, uc, vc\n",
    "        \n",
    "    assert d == 1\n",
    "    if ud > 0:\n",
    "        return ud\n",
    "    else:\n",
    "        return ud + p"
   ]
  },
  {
   "cell_type": "code",
   "execution_count": 42,
   "metadata": {},
   "outputs": [],
   "source": [
    "def fieldSqr(a):\n",
    "    return (a ** 2) % p"
   ]
  },
  {
   "cell_type": "code",
   "execution_count": 158,
   "metadata": {},
   "outputs": [],
   "source": [
    "def fieldMul2(a, b):\n",
    "    ahi = a // 2**256\n",
    "    alo = a % 2**256\n",
    "    bhi = b // 2**256\n",
    "    blo = b % 2**256\n",
    "    \n",
    "    hihi = ahi * bhi\n",
    "    hilo = ahi * blo\n",
    "    \n",
    "    \n",
    "    \n",
    "    assert(r == fieldMul(a, b))\n",
    "    return r"
   ]
  },
  {
   "cell_type": "code",
   "execution_count": 74,
   "metadata": {},
   "outputs": [],
   "source": [
    "def orderAdd(a, b):\n",
    "    return (a + b) % go"
   ]
  },
  {
   "cell_type": "code",
   "execution_count": 12,
   "metadata": {},
   "outputs": [],
   "source": [
    "def orderSub(a, v):\n",
    "    return (a - b) % go"
   ]
  },
  {
   "cell_type": "code",
   "execution_count": 13,
   "metadata": {},
   "outputs": [],
   "source": [
    "def orderMul(a, b):\n",
    "    return (a * b) % go"
   ]
  },
  {
   "cell_type": "code",
   "execution_count": 14,
   "metadata": {},
   "outputs": [],
   "source": [
    "def orderInv(a):\n",
    "    a = a % go\n",
    "\n",
    "    # Euclids\n",
    "    c, d = a, go\n",
    "    uc, vc, ud, vd = 1, 0, 0, 1\n",
    "    while c != 0:\n",
    "        q, c, d = (d // c, d % c, c)\n",
    "        uc, vc, ud, vd = ud - q * uc, vd - q * vc, uc, vc\n",
    "        \n",
    "    assert d == 1\n",
    "    if ud > 0:\n",
    "        return ud\n",
    "    else:\n",
    "        return ud + p"
   ]
  },
  {
   "cell_type": "code",
   "execution_count": 15,
   "metadata": {},
   "outputs": [],
   "source": [
    "def curveAdd(a, b):\n",
    "    ax, ay = a\n",
    "    bx, by = b\n",
    "    # l = (ay - by) / (ax - bx)\n",
    "    l = fieldMul(fieldSub(ay, by), fieldInv(fieldSub(ax, bx)))\n",
    "    # x = l * l - ax - bx\n",
    "    x = fieldSub(fieldMul(l, l), fieldAdd(ax, bx))\n",
    "    # y = l * (bx - x) - by\n",
    "    y = fieldSub(fieldMul(l, fieldSub(bx, x)), by)\n",
    "    return (x, y)"
   ]
  },
  {
   "cell_type": "code",
   "execution_count": 16,
   "metadata": {},
   "outputs": [],
   "source": [
    "def curveDouble(a):\n",
    "    ax, ay = a\n",
    "    # l = (3 * ax * ax + ca) / (2 * ay)\n",
    "    l = fieldMul(fieldAdd(fieldMul(3, fieldMul(ax, ax)), ca), fieldInv(fieldMul(2, ay)))\n",
    "    # x = l * l - 2 * ax\n",
    "    x = fieldSub(fieldMul(l, l), fieldMul(2, ax))\n",
    "    # y = l * (ax - x) - ay\n",
    "    y = fieldSub(fieldMul(l, fieldSub(ax, x)), ay)\n",
    "    return (x, y)"
   ]
  },
  {
   "cell_type": "code",
   "execution_count": 17,
   "metadata": {},
   "outputs": [],
   "source": [
    "def curveMul(r, a):\n",
    "    assert(r != 0)\n",
    "    # Double and add\n",
    "    \n",
    "    result = False\n",
    "    coeff = a\n",
    "    while r > 0:\n",
    "        if r % 2 == 1:\n",
    "            if result == False:\n",
    "                result = coeff\n",
    "            else:\n",
    "                result = curveAdd(result, coeff)\n",
    "        coeff = curveDouble(coeff)\n",
    "        r = r // 2\n",
    "    return result"
   ]
  },
  {
   "cell_type": "code",
   "execution_count": null,
   "metadata": {},
   "outputs": [],
   "source": []
  },
  {
   "cell_type": "markdown",
   "metadata": {},
   "source": [
    "## ECDSA"
   ]
  },
  {
   "cell_type": "code",
   "execution_count": 18,
   "metadata": {},
   "outputs": [],
   "source": [
    "def verify(pub, m, r, s):\n",
    "    c = orderInv(s)\n",
    "    u1 = orderMul(m, c)\n",
    "    u2 = orderMul(r, c)\n",
    "    t1 = curveMul(u1, (gx, gy))\n",
    "    t2 = curveMul(u2, pub)\n",
    "    x, y = curveAdd(t1, t2)\n",
    "    return x == r"
   ]
  },
  {
   "cell_type": "code",
   "execution_count": 19,
   "metadata": {},
   "outputs": [
    {
     "data": {
      "text/plain": [
       "True"
      ]
     },
     "execution_count": 19,
     "metadata": {},
     "output_type": "execute_result"
    }
   ],
   "source": [
    "verify((x, y), m, r, s)"
   ]
  },
  {
   "cell_type": "markdown",
   "metadata": {},
   "source": [
    "## 256 bit math"
   ]
  },
  {
   "cell_type": "code",
   "execution_count": 20,
   "metadata": {},
   "outputs": [],
   "source": [
    "B = 2**256"
   ]
  },
  {
   "cell_type": "code",
   "execution_count": 21,
   "metadata": {},
   "outputs": [],
   "source": [
    "phi = p // B\n",
    "plo = p % B"
   ]
  },
  {
   "cell_type": "code",
   "execution_count": 22,
   "metadata": {},
   "outputs": [
    {
     "data": {
      "text/plain": [
       "'0xffffffffffffffffffffffffffffffff'"
      ]
     },
     "execution_count": 22,
     "metadata": {},
     "output_type": "execute_result"
    }
   ],
   "source": [
    "hex(phi)"
   ]
  },
  {
   "cell_type": "code",
   "execution_count": 23,
   "metadata": {},
   "outputs": [
    {
     "data": {
      "text/plain": [
       "'0xfffffffffffffffffffffffffffffffeffffffff0000000000000000ffffffff'"
      ]
     },
     "execution_count": 23,
     "metadata": {},
     "output_type": "execute_result"
    }
   ],
   "source": [
    "hex(plo)"
   ]
  },
  {
   "cell_type": "code",
   "execution_count": 24,
   "metadata": {},
   "outputs": [],
   "source": [
    "def encode(n):\n",
    "    hi = n // B\n",
    "    lo = n % B\n",
    "    return(hex(hi), hex(lo))"
   ]
  },
  {
   "cell_type": "code",
   "execution_count": 25,
   "metadata": {},
   "outputs": [
    {
     "data": {
      "text/plain": [
       "('0x3617de4a96262c6f5d9e98bf9292dc29',\n",
       " '0xf8f41dbd289a147ce9da3113b5f0b8c00a60b1ce1d7e819d7a431d7c90ea0e5f')"
      ]
     },
     "execution_count": 25,
     "metadata": {},
     "output_type": "execute_result"
    }
   ],
   "source": [
    "encode(gy)"
   ]
  },
  {
   "cell_type": "code",
   "execution_count": 26,
   "metadata": {},
   "outputs": [
    {
     "data": {
      "text/plain": [
       "23040000"
      ]
     },
     "execution_count": 26,
     "metadata": {},
     "output_type": "execute_result"
    }
   ],
   "source": [
    "384*4*15000"
   ]
  },
  {
   "cell_type": "code",
   "execution_count": 27,
   "metadata": {},
   "outputs": [
    {
     "data": {
      "text/plain": [
       "'0x4000000000000000000000000000000000000000000000000000000000000000'"
      ]
     },
     "execution_count": 27,
     "metadata": {},
     "output_type": "execute_result"
    }
   ],
   "source": [
    "hex(2**254)"
   ]
  },
  {
   "cell_type": "code",
   "execution_count": null,
   "metadata": {},
   "outputs": [],
   "source": []
  },
  {
   "cell_type": "code",
   "execution_count": 159,
   "metadata": {},
   "outputs": [],
   "source": [
    "a = 599427618441585214480654826424804389148424569391432305892240124285955597636293123889101761615304932394858160794582\n",
    "b = 11277274496372938598844737694877468910033331815336101620257290860148585098181308524035199845779780325184246673437934\n",
    "r = 14597450047310184691802279767974112992212260558267197400177441867266218745241229512045609794656127977953453774034409"
   ]
  },
  {
   "cell_type": "code",
   "execution_count": 160,
   "metadata": {},
   "outputs": [
    {
     "data": {
      "text/plain": [
       "('0x3e501df64c8d7065d58eac499351e2a',\n",
       " '0xfcdc74fda6bd4980919ca5dcf51075e51e36e9442aba748d8d9931e0f1332bd6')"
      ]
     },
     "execution_count": 160,
     "metadata": {},
     "output_type": "execute_result"
    }
   ],
   "source": [
    "encode(a)"
   ]
  },
  {
   "cell_type": "code",
   "execution_count": 161,
   "metadata": {},
   "outputs": [
    {
     "data": {
      "text/plain": [
       "('0x49451a30e75e7a6a7f48519b72a60e4f',\n",
       " '0xf737d5a207bc2e493b8455c10652357e19a1044de6e3c1d680f328cb7015f4ee')"
      ]
     },
     "execution_count": 161,
     "metadata": {},
     "output_type": "execute_result"
    }
   ],
   "source": [
    "encode(b)"
   ]
  },
  {
   "cell_type": "code",
   "execution_count": null,
   "metadata": {},
   "outputs": [],
   "source": []
  },
  {
   "cell_type": "code",
   "execution_count": 162,
   "metadata": {},
   "outputs": [
    {
     "data": {
      "text/plain": [
       "14597450047310184691802279767974112992212260558267197400177441867266218745241229512045609794656127977953453774034409"
      ]
     },
     "execution_count": 162,
     "metadata": {},
     "output_type": "execute_result"
    }
   ],
   "source": [
    "fieldMul(a, b)"
   ]
  },
  {
   "cell_type": "code",
   "execution_count": 163,
   "metadata": {},
   "outputs": [
    {
     "name": "stdout",
     "output_type": "stream",
     "text": [
      "0x17425bcf063c3596d3239ffd5d4ddd9f3c09a05d31f2804bf22b566ce3975858fd0175216045fb751c0e5f54dd432a82d5c442efa78c6367187bdf2e687bf843f8487c587cfdcfea6c1546b7aeb793cb05bb4ac37c30592b90a657183bf99610\n",
      "0x17425bcf063c3596d3239ffd5d4ddd9f3c09a05d31f2804bf22b566ce39758584840b28edbab393cc3827ef680dc015e7104f88697af66132f037798adbefb86d79330c00aa3fe69758d22f7e79d4d3f418c7c793be085901e00905cefa2e3d0\n",
      "0x5d096f3c18f0d65b4c8e7ff57537767cf0268174c7ca012fc8ad59b38e5d61612102ca3b6eace4f30e09fbda03700579c413e21a5ebd984cbc0dde62b6fbee1b5e4cc3002a8ff9a5d6348bdf9e7534fd0631f1e4ef82164078024173be8b8f4\n",
      "1053742166889187823018035578655088286143052650167535096085392681164498326404673055905120468872623024141920457425343\n"
     ]
    },
    {
     "ename": "AssertionError",
     "evalue": "",
     "output_type": "error",
     "traceback": [
      "\u001b[0;31m---------------------------------------------------------------------------\u001b[0m",
      "\u001b[0;31mAssertionError\u001b[0m                            Traceback (most recent call last)",
      "\u001b[0;32m<ipython-input-163-2d334869c11c>\u001b[0m in \u001b[0;36m<module>\u001b[0;34m()\u001b[0m\n\u001b[0;32m----> 1\u001b[0;31m \u001b[0mfieldMul2\u001b[0m\u001b[0;34m(\u001b[0m\u001b[0ma\u001b[0m\u001b[0;34m,\u001b[0m \u001b[0mb\u001b[0m\u001b[0;34m)\u001b[0m\u001b[0;34m\u001b[0m\u001b[0m\n\u001b[0m",
      "\u001b[0;32m<ipython-input-158-c4942f0e11d9>\u001b[0m in \u001b[0;36mfieldMul2\u001b[0;34m(a, b)\u001b[0m\n\u001b[1;32m     13\u001b[0m     \u001b[0mprint\u001b[0m\u001b[0;34m(\u001b[0m\u001b[0mu\u001b[0m\u001b[0;34m)\u001b[0m\u001b[0;34m\u001b[0m\u001b[0m\n\u001b[1;32m     14\u001b[0m \u001b[0;34m\u001b[0m\u001b[0m\n\u001b[0;32m---> 15\u001b[0;31m     \u001b[0;32massert\u001b[0m\u001b[0;34m(\u001b[0m\u001b[0mu\u001b[0m \u001b[0;34m==\u001b[0m \u001b[0mfieldMul\u001b[0m\u001b[0;34m(\u001b[0m\u001b[0ma\u001b[0m\u001b[0;34m,\u001b[0m \u001b[0mb\u001b[0m\u001b[0;34m)\u001b[0m\u001b[0;34m)\u001b[0m\u001b[0;34m\u001b[0m\u001b[0m\n\u001b[0m\u001b[1;32m     16\u001b[0m     \u001b[0;32mreturn\u001b[0m \u001b[0mu\u001b[0m\u001b[0;34m\u001b[0m\u001b[0m\n",
      "\u001b[0;31mAssertionError\u001b[0m: "
     ]
    }
   ],
   "source": [
    "fieldMul2(a, b)"
   ]
  },
  {
   "cell_type": "code",
   "execution_count": 66,
   "metadata": {},
   "outputs": [
    {
     "data": {
      "text/plain": [
       "(40995447352907514202055757621360755404,\n",
       " 79653912081726419637956945954986414628610407990280932277295419255636544542185)"
      ]
     },
     "execution_count": 66,
     "metadata": {},
     "output_type": "execute_result"
    }
   ],
   "source": [
    "(r // B, r % B)"
   ]
  },
  {
   "cell_type": "code",
   "execution_count": 149,
   "metadata": {},
   "outputs": [
    {
     "data": {
      "text/plain": [
       "'0x3fffffffffffffffffffffffffffffffffffffffffffffffffffffffffffffffbfffffffc00000000000000040000000'"
      ]
     },
     "execution_count": 149,
     "metadata": {},
     "output_type": "execute_result"
    }
   ],
   "source": [
    "hex(fieldInv(4))"
   ]
  },
  {
   "cell_type": "code",
   "execution_count": 144,
   "metadata": {},
   "outputs": [
    {
     "data": {
      "text/plain": [
       "768"
      ]
     },
     "execution_count": 144,
     "metadata": {},
     "output_type": "execute_result"
    }
   ],
   "source": [
    "384 * 2"
   ]
  },
  {
   "cell_type": "code",
   "execution_count": null,
   "metadata": {},
   "outputs": [],
   "source": []
  }
 ],
 "metadata": {
  "kernelspec": {
   "display_name": "Python 3",
   "language": "python",
   "name": "python3"
  },
  "language_info": {
   "codemirror_mode": {
    "name": "ipython",
    "version": 3
   },
   "file_extension": ".py",
   "mimetype": "text/x-python",
   "name": "python",
   "nbconvert_exporter": "python",
   "pygments_lexer": "ipython3",
   "version": "3.7.0"
  }
 },
 "nbformat": 4,
 "nbformat_minor": 2
}
